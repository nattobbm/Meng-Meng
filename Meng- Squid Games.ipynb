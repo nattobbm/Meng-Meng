{
 "cells": [
  {
   "cell_type": "code",
   "execution_count": null,
   "id": "1ca90f96",
   "metadata": {},
   "outputs": [],
   "source": [
    "\n",
    "#!/usr/bin/env python3\n",
    "# -*- coding: utf-8 -*-\n",
    "\"\"\"\n",
    "Created on Thu Aug 23 17:52:46 2018\n",
    "\n",
    "@author: Meng Meng\n",
    "\n",
    "    DocString:\n",
    "    \n",
    "    A) Introduction:\n",
    "    This game based on TVshow\"Squid Games\"\n",
    "    Squid Games - Bridge Of Death\n",
    "    You must cross a glass bridge with 10 levels and two glasses one on the left and right.\n",
    "    One of the two glasses is strong and can support your weight, If you select to jump the wrong glass it will break and you will die.\n",
    "    You gave 5 lives to try to cross the bridge all the way to the end.\n",
    "    \n",
    "    B) Known Bugs and/or Errors:\n",
    "    None.\n",
    "\n",
    "\"\"\"\n",
    "\n",
    "import random\n",
    "\n",
    "def generate_board(stages):\n",
    "    board = list()\n",
    "    for x in range(0, stages):\n",
    "        '''\n",
    "          [[true, false], [false,ture], [true,fale]]\n",
    "        '''    \n",
    "        first_space = bool(random.getrandbits(1))\n",
    "        board.append([first_space, not first_space])\n",
    "    return board\n",
    "\n",
    "def fail():\n",
    "    print(\"XP All your player have died! Please try again\\n\" )\n",
    "    input('<Press any key to exit>\\n')\n",
    "    \n",
    "def win(num):\n",
    "    print(\"Congrats! You won with \" + str(num) + \"lives left\")\n",
    "    input('<Press any key to exit>\\n')\n",
    "    \n",
    "def game_loop():\n",
    "    \n",
    "    number_of_stages = 5\n",
    "    board = generate_board(number_of_stages)\n",
    "    number_of_lives = 5\n",
    "    position = 0\n",
    "    \n",
    "    while True:\n",
    "        if position == number_of_stages:\n",
    "            win(number_of_lives)\n",
    "            break\n",
    "            \n",
    "        print(\"You are at position\" + str(position)+\"/\"+ str(number_of_stages)+\" with \"+ str(number_of_lives)+ \"lives\")\n",
    "        choice = input('<1 for left, 2 for right>')\n",
    "        \n",
    "        if choice == '1':\n",
    "            if board[position][0] is False:\n",
    "                number_of_lives -= 1\n",
    "                print(\"You lost a life try again\")\n",
    "                if number_of_lives == 0:\n",
    "                    fail()\n",
    "                    break\n",
    "            else:\n",
    "                print(\"you guessed right\")\n",
    "                position += 1\n",
    "                continue \n",
    "                \n",
    "        elif choice == '2':\n",
    "            if board[position][1]is  False:\n",
    "                number_of_lives -= 1\n",
    "                print(\"You lost a life! Try again\")\n",
    "                if number_of_live == 0:\n",
    "                    fail()\n",
    "                    break\n",
    "            else:\n",
    "                print(\"you gueesed right\")\n",
    "                position += 1\n",
    "                continue\n",
    "        else:\n",
    "            print(\"Invald Input Try again\")\n",
    "            continue\n",
    "\n",
    "\n",
    "game_loop()"
   ]
  },
  {
   "cell_type": "code",
   "execution_count": null,
   "id": "dc48aa10",
   "metadata": {},
   "outputs": [],
   "source": []
  },
  {
   "cell_type": "code",
   "execution_count": null,
   "id": "2e18333d",
   "metadata": {},
   "outputs": [],
   "source": []
  },
  {
   "cell_type": "code",
   "execution_count": null,
   "id": "9716cf68",
   "metadata": {},
   "outputs": [],
   "source": []
  }
 ],
 "metadata": {
  "kernelspec": {
   "display_name": "Python 3 (ipykernel)",
   "language": "python",
   "name": "python3"
  },
  "language_info": {
   "codemirror_mode": {
    "name": "ipython",
    "version": 3
   },
   "file_extension": ".py",
   "mimetype": "text/x-python",
   "name": "python",
   "nbconvert_exporter": "python",
   "pygments_lexer": "ipython3",
   "version": "3.8.8"
  },
  "toc": {
   "base_numbering": 1,
   "nav_menu": {},
   "number_sections": true,
   "sideBar": true,
   "skip_h1_title": false,
   "title_cell": "Table of Contents",
   "title_sidebar": "Contents",
   "toc_cell": false,
   "toc_position": {},
   "toc_section_display": true,
   "toc_window_display": false
  },
  "varInspector": {
   "cols": {
    "lenName": 16,
    "lenType": 16,
    "lenVar": 40
   },
   "kernels_config": {
    "python": {
     "delete_cmd_postfix": "",
     "delete_cmd_prefix": "del ",
     "library": "var_list.py",
     "varRefreshCmd": "print(var_dic_list())"
    },
    "r": {
     "delete_cmd_postfix": ") ",
     "delete_cmd_prefix": "rm(",
     "library": "var_list.r",
     "varRefreshCmd": "cat(var_dic_list()) "
    }
   },
   "types_to_exclude": [
    "module",
    "function",
    "builtin_function_or_method",
    "instance",
    "_Feature"
   ],
   "window_display": false
  }
 },
 "nbformat": 4,
 "nbformat_minor": 5
}
