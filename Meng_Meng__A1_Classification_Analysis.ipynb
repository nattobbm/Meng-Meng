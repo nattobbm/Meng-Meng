{
 "cells": [
  {
   "cell_type": "code",
   "execution_count": 8,
   "id": "87a2564d",
   "metadata": {},
   "outputs": [],
   "source": [
    "import numpy as np                                     # mathematical essentials\n",
    "import pandas as pd                                    # data science essentials\n",
    "\n",
    "from sklearn.metrics import confusion_matrix           # confusion matrix\n",
    "from sklearn.metrics import roc_auc_score              # auc score\n",
    "from sklearn.model_selection import train_test_split   # train-test split\n",
    "from sklearn.model_selection import GridSearchCV       # GridSearchC\n",
    "from sklearn.feature_selection import SelectFromModel  \n",
    "\n",
    "from sklearn.linear_model import LogisticRegression    # logistic regression\n",
    "from sklearn.ensemble import RandomForestClassifier     # random forest\n",
    "from sklearn.ensemble import GradientBoostingClassifier \n",
    "from sklearn.tree import DecisionTreeClassifier         # classification trees"
   ]
  },
  {
   "cell_type": "code",
   "execution_count": 9,
   "id": "cb96e4ac",
   "metadata": {
    "scrolled": true
   },
   "outputs": [],
   "source": [
    "data = pd.read_excel('./GOT_character_predictions.xlsx')\n"
   ]
  },
  {
   "cell_type": "code",
   "execution_count": 10,
   "id": "41cfbaba",
   "metadata": {},
   "outputs": [
    {
     "data": {
      "text/html": [
       "<div>\n",
       "<style scoped>\n",
       "    .dataframe tbody tr th:only-of-type {\n",
       "        vertical-align: middle;\n",
       "    }\n",
       "\n",
       "    .dataframe tbody tr th {\n",
       "        vertical-align: top;\n",
       "    }\n",
       "\n",
       "    .dataframe thead th {\n",
       "        text-align: right;\n",
       "    }\n",
       "</style>\n",
       "<table border=\"1\" class=\"dataframe\">\n",
       "  <thead>\n",
       "    <tr style=\"text-align: right;\">\n",
       "      <th></th>\n",
       "      <th>S.No</th>\n",
       "      <th>name</th>\n",
       "      <th>title</th>\n",
       "      <th>culture</th>\n",
       "      <th>dateOfBirth</th>\n",
       "      <th>mother</th>\n",
       "      <th>father</th>\n",
       "      <th>heir</th>\n",
       "      <th>house</th>\n",
       "      <th>spouse</th>\n",
       "      <th>...</th>\n",
       "      <th>isAliveMother</th>\n",
       "      <th>isAliveFather</th>\n",
       "      <th>isAliveHeir</th>\n",
       "      <th>isAliveSpouse</th>\n",
       "      <th>isMarried</th>\n",
       "      <th>isNoble</th>\n",
       "      <th>age</th>\n",
       "      <th>numDeadRelations</th>\n",
       "      <th>popularity</th>\n",
       "      <th>isAlive</th>\n",
       "    </tr>\n",
       "  </thead>\n",
       "  <tbody>\n",
       "    <tr>\n",
       "      <th>0</th>\n",
       "      <td>1</td>\n",
       "      <td>Viserys II Targaryen</td>\n",
       "      <td>NaN</td>\n",
       "      <td>NaN</td>\n",
       "      <td>NaN</td>\n",
       "      <td>Rhaenyra Targaryen</td>\n",
       "      <td>Daemon Targaryen</td>\n",
       "      <td>Aegon IV Targaryen</td>\n",
       "      <td>NaN</td>\n",
       "      <td>NaN</td>\n",
       "      <td>...</td>\n",
       "      <td>1.0</td>\n",
       "      <td>0.0</td>\n",
       "      <td>0.0</td>\n",
       "      <td>NaN</td>\n",
       "      <td>0</td>\n",
       "      <td>0</td>\n",
       "      <td>NaN</td>\n",
       "      <td>11</td>\n",
       "      <td>0.605351</td>\n",
       "      <td>0</td>\n",
       "    </tr>\n",
       "    <tr>\n",
       "      <th>1</th>\n",
       "      <td>2</td>\n",
       "      <td>Walder Frey</td>\n",
       "      <td>Lord of the Crossing</td>\n",
       "      <td>Rivermen</td>\n",
       "      <td>208.0</td>\n",
       "      <td>NaN</td>\n",
       "      <td>NaN</td>\n",
       "      <td>NaN</td>\n",
       "      <td>House Frey</td>\n",
       "      <td>Perra Royce</td>\n",
       "      <td>...</td>\n",
       "      <td>NaN</td>\n",
       "      <td>NaN</td>\n",
       "      <td>NaN</td>\n",
       "      <td>1.0</td>\n",
       "      <td>1</td>\n",
       "      <td>1</td>\n",
       "      <td>97.0</td>\n",
       "      <td>1</td>\n",
       "      <td>0.896321</td>\n",
       "      <td>1</td>\n",
       "    </tr>\n",
       "    <tr>\n",
       "      <th>2</th>\n",
       "      <td>3</td>\n",
       "      <td>Addison Hill</td>\n",
       "      <td>Ser</td>\n",
       "      <td>NaN</td>\n",
       "      <td>NaN</td>\n",
       "      <td>NaN</td>\n",
       "      <td>NaN</td>\n",
       "      <td>NaN</td>\n",
       "      <td>House Swyft</td>\n",
       "      <td>NaN</td>\n",
       "      <td>...</td>\n",
       "      <td>NaN</td>\n",
       "      <td>NaN</td>\n",
       "      <td>NaN</td>\n",
       "      <td>NaN</td>\n",
       "      <td>0</td>\n",
       "      <td>1</td>\n",
       "      <td>NaN</td>\n",
       "      <td>0</td>\n",
       "      <td>0.267559</td>\n",
       "      <td>1</td>\n",
       "    </tr>\n",
       "    <tr>\n",
       "      <th>3</th>\n",
       "      <td>4</td>\n",
       "      <td>Aemma Arryn</td>\n",
       "      <td>Queen</td>\n",
       "      <td>NaN</td>\n",
       "      <td>82.0</td>\n",
       "      <td>NaN</td>\n",
       "      <td>NaN</td>\n",
       "      <td>NaN</td>\n",
       "      <td>House Arryn</td>\n",
       "      <td>Viserys I Targaryen</td>\n",
       "      <td>...</td>\n",
       "      <td>NaN</td>\n",
       "      <td>NaN</td>\n",
       "      <td>NaN</td>\n",
       "      <td>0.0</td>\n",
       "      <td>1</td>\n",
       "      <td>1</td>\n",
       "      <td>23.0</td>\n",
       "      <td>0</td>\n",
       "      <td>0.183946</td>\n",
       "      <td>0</td>\n",
       "    </tr>\n",
       "    <tr>\n",
       "      <th>4</th>\n",
       "      <td>5</td>\n",
       "      <td>Sylva Santagar</td>\n",
       "      <td>Greenstone</td>\n",
       "      <td>Dornish</td>\n",
       "      <td>276.0</td>\n",
       "      <td>NaN</td>\n",
       "      <td>NaN</td>\n",
       "      <td>NaN</td>\n",
       "      <td>House Santagar</td>\n",
       "      <td>Eldon Estermont</td>\n",
       "      <td>...</td>\n",
       "      <td>NaN</td>\n",
       "      <td>NaN</td>\n",
       "      <td>NaN</td>\n",
       "      <td>1.0</td>\n",
       "      <td>1</td>\n",
       "      <td>1</td>\n",
       "      <td>29.0</td>\n",
       "      <td>0</td>\n",
       "      <td>0.043478</td>\n",
       "      <td>1</td>\n",
       "    </tr>\n",
       "  </tbody>\n",
       "</table>\n",
       "<p>5 rows × 25 columns</p>\n",
       "</div>"
      ],
      "text/plain": [
       "   S.No                  name                 title   culture  dateOfBirth  \\\n",
       "0     1  Viserys II Targaryen                   NaN       NaN          NaN   \n",
       "1     2           Walder Frey  Lord of the Crossing  Rivermen        208.0   \n",
       "2     3          Addison Hill                   Ser       NaN          NaN   \n",
       "3     4           Aemma Arryn                 Queen       NaN         82.0   \n",
       "4     5        Sylva Santagar            Greenstone   Dornish        276.0   \n",
       "\n",
       "               mother            father                heir           house  \\\n",
       "0  Rhaenyra Targaryen  Daemon Targaryen  Aegon IV Targaryen             NaN   \n",
       "1                 NaN               NaN                 NaN      House Frey   \n",
       "2                 NaN               NaN                 NaN     House Swyft   \n",
       "3                 NaN               NaN                 NaN     House Arryn   \n",
       "4                 NaN               NaN                 NaN  House Santagar   \n",
       "\n",
       "                spouse  ...  isAliveMother  isAliveFather  isAliveHeir  \\\n",
       "0                  NaN  ...            1.0            0.0          0.0   \n",
       "1          Perra Royce  ...            NaN            NaN          NaN   \n",
       "2                  NaN  ...            NaN            NaN          NaN   \n",
       "3  Viserys I Targaryen  ...            NaN            NaN          NaN   \n",
       "4      Eldon Estermont  ...            NaN            NaN          NaN   \n",
       "\n",
       "   isAliveSpouse  isMarried  isNoble   age  numDeadRelations  popularity  \\\n",
       "0            NaN          0        0   NaN                11    0.605351   \n",
       "1            1.0          1        1  97.0                 1    0.896321   \n",
       "2            NaN          0        1   NaN                 0    0.267559   \n",
       "3            0.0          1        1  23.0                 0    0.183946   \n",
       "4            1.0          1        1  29.0                 0    0.043478   \n",
       "\n",
       "   isAlive  \n",
       "0        0  \n",
       "1        1  \n",
       "2        1  \n",
       "3        0  \n",
       "4        1  \n",
       "\n",
       "[5 rows x 25 columns]"
      ]
     },
     "execution_count": 10,
     "metadata": {},
     "output_type": "execute_result"
    }
   ],
   "source": [
    "data.head()"
   ]
  },
  {
   "cell_type": "code",
   "execution_count": 13,
   "id": "82075d70",
   "metadata": {},
   "outputs": [
    {
     "data": {
      "text/plain": [
       "S.No                             0\n",
       "name                             0\n",
       "title                         1008\n",
       "culture                       1269\n",
       "dateOfBirth                   1513\n",
       "mother                        1925\n",
       "father                        1920\n",
       "heir                          1923\n",
       "house                          427\n",
       "spouse                        1670\n",
       "book1_A_Game_Of_Thrones          0\n",
       "book2_A_Clash_Of_Kings           0\n",
       "book3_A_Storm_Of_Swords          0\n",
       "book4_A_Feast_For_Crows          0\n",
       "book5_A_Dance_with_Dragons       0\n",
       "isAliveMother                 1925\n",
       "isAliveFather                 1920\n",
       "isAliveHeir                   1923\n",
       "isAliveSpouse                 1670\n",
       "isMarried                        0\n",
       "isNoble                          0\n",
       "age                           1513\n",
       "numDeadRelations                 0\n",
       "popularity                       0\n",
       "isAlive                          0\n",
       "dtype: int64"
      ]
     },
     "execution_count": 13,
     "metadata": {},
     "output_type": "execute_result"
    }
   ],
   "source": [
    "data.isna().sum() "
   ]
  },
  {
   "cell_type": "markdown",
   "id": "f24db1be",
   "metadata": {},
   "source": [
    "A quick explore the data indicate there are quite a lot of missing values\n",
    "\n",
    "check if there is any missing values in y variable# "
   ]
  },
  {
   "cell_type": "code",
   "execution_count": 15,
   "id": "91f98fdb",
   "metadata": {
    "scrolled": true
   },
   "outputs": [
    {
     "data": {
      "text/plain": [
       "False"
      ]
     },
     "execution_count": 15,
     "metadata": {},
     "output_type": "execute_result"
    }
   ],
   "source": [
    "data['isAlive'].isna().any()\n",
    "# or np.where(df['isAlive'].isna())"
   ]
  },
  {
   "cell_type": "markdown",
   "id": "3c3709e8",
   "metadata": {},
   "source": [
    "Fortunately, there is no missing values in class labels. For those missing values in x variables, we could deal with accordingly (either impute the missing values or using models that accept null values)"
   ]
  },
  {
   "cell_type": "markdown",
   "id": "8d43eb72",
   "metadata": {},
   "source": [
    "#  Data Pre-processing"
   ]
  },
  {
   "cell_type": "markdown",
   "id": "f25499e1",
   "metadata": {},
   "source": [
    "#### Removing redundant features"
   ]
  },
  {
   "cell_type": "code",
   "execution_count": 19,
   "id": "fa3a865f",
   "metadata": {},
   "outputs": [
    {
     "data": {
      "text/plain": [
       "True"
      ]
     },
     "execution_count": 19,
     "metadata": {},
     "output_type": "execute_result"
    }
   ],
   "source": [
    "# check the unique number of instance for column 'name' in the data set\n",
    "data['name'].nunique() == len(data)"
   ]
  },
  {
   "cell_type": "code",
   "execution_count": 20,
   "id": "d2d34deb",
   "metadata": {
    "scrolled": true
   },
   "outputs": [
    {
     "data": {
      "text/plain": [
       "True"
      ]
     },
     "execution_count": 20,
     "metadata": {},
     "output_type": "execute_result"
    }
   ],
   "source": [
    "# check the unique number of instance for column 'S.No' in the data set\n",
    "data['S.No'].nunique() == len(data)"
   ]
  },
  {
   "cell_type": "markdown",
   "id": "29820943",
   "metadata": {},
   "source": [
    "Since the datapoints in first two variables (ID and name) are all unique values, which indicates both variables are not associated with the class labels. I would like to remove these two variable in advance."
   ]
  },
  {
   "cell_type": "code",
   "execution_count": 25,
   "id": "4fb466f4",
   "metadata": {},
   "outputs": [],
   "source": [
    "data_new = data.loc[:,~data.columns.isin(['S.No','name'])]"
   ]
  },
  {
   "cell_type": "markdown",
   "id": "72376210",
   "metadata": {},
   "source": [
    "####  Checking datatypes"
   ]
  },
  {
   "cell_type": "code",
   "execution_count": 26,
   "id": "8933e302",
   "metadata": {},
   "outputs": [
    {
     "data": {
      "text/plain": [
       "title                          object\n",
       "culture                        object\n",
       "dateOfBirth                   float64\n",
       "mother                         object\n",
       "father                         object\n",
       "heir                           object\n",
       "house                          object\n",
       "spouse                         object\n",
       "book1_A_Game_Of_Thrones         int64\n",
       "book2_A_Clash_Of_Kings          int64\n",
       "book3_A_Storm_Of_Swords         int64\n",
       "book4_A_Feast_For_Crows         int64\n",
       "book5_A_Dance_with_Dragons      int64\n",
       "isAliveMother                 float64\n",
       "isAliveFather                 float64\n",
       "isAliveHeir                   float64\n",
       "isAliveSpouse                 float64\n",
       "isMarried                       int64\n",
       "isNoble                         int64\n",
       "age                           float64\n",
       "numDeadRelations                int64\n",
       "popularity                    float64\n",
       "isAlive                         int64\n",
       "dtype: object"
      ]
     },
     "execution_count": 26,
     "metadata": {},
     "output_type": "execute_result"
    }
   ],
   "source": [
    "data_new.dtypes"
   ]
  },
  {
   "cell_type": "markdown",
   "id": "36a03994",
   "metadata": {},
   "source": [
    "####  Converting the categorical variables into dummy code"
   ]
  },
  {
   "cell_type": "code",
   "execution_count": 27,
   "id": "b7ed1e82",
   "metadata": {},
   "outputs": [],
   "source": [
    "# exclude the class labels\n",
    "data_dummy = pd.get_dummies(data_new.iloc[:,:-1])"
   ]
  },
  {
   "cell_type": "markdown",
   "id": "4b2e9346",
   "metadata": {},
   "source": [
    "####  Impute missing values"
   ]
  },
  {
   "cell_type": "markdown",
   "id": "d118cbbc",
   "metadata": {},
   "source": [
    "Since the dataset has both numeric and categorical variables (even though converted to dummy code), I think mode would be more appropriate than mean or mdeian when imputing the missing values"
   ]
  },
  {
   "cell_type": "code",
   "execution_count": 28,
   "id": "631075e1",
   "metadata": {},
   "outputs": [],
   "source": [
    "# one simple/quick approach to impute the missing values, but this could lead to some bias \n",
    "data_imput = data_dummy.fillna(data.mode().iloc[0])"
   ]
  },
  {
   "cell_type": "code",
   "execution_count": 29,
   "id": "d9d906fb",
   "metadata": {},
   "outputs": [
    {
     "data": {
      "text/plain": [
       "(array([], dtype=int64), array([], dtype=int64))"
      ]
     },
     "execution_count": 29,
     "metadata": {},
     "output_type": "execute_result"
    }
   ],
   "source": [
    "# double check to make sure there is no more missing data\n",
    "np.where(data_imput.isna())"
   ]
  },
  {
   "cell_type": "markdown",
   "id": "d78a86ab",
   "metadata": {},
   "source": [
    "####  Stratified train test split"
   ]
  },
  {
   "cell_type": "code",
   "execution_count": 30,
   "id": "814406fd",
   "metadata": {},
   "outputs": [],
   "source": [
    "X, y = data_imput.values, data_new.iloc[:,-1].values\n",
    "X_train, X_test, y_train, y_test = train_test_split(X, y, random_state=219, stratify=y, test_size=0.10)"
   ]
  },
  {
   "cell_type": "code",
   "execution_count": 31,
   "id": "271d9c2e",
   "metadata": {},
   "outputs": [],
   "source": [
    "# convert the train/test data back to dataframe\n",
    "data_train = pd.DataFrame(X_train, columns=data_dummy.columns)\n",
    "data_train.loc[:,'isAlive'] = list(y_train)\n",
    "\n",
    "data_test = pd.DataFrame(X_test, columns=data_dummy.columns)\n",
    "data_test.loc[:,'isAlive'] = list(y_test)"
   ]
  },
  {
   "cell_type": "markdown",
   "id": "6d4eb936",
   "metadata": {},
   "source": [
    "####   Feature selection"
   ]
  },
  {
   "cell_type": "code",
   "execution_count": 32,
   "id": "aa59706c",
   "metadata": {},
   "outputs": [
    {
     "name": "stdout",
     "output_type": "stream",
     "text": [
      "[0.28034408 0.025923   0.01164872 ... 0.         0.         0.        ]\n"
     ]
    }
   ],
   "source": [
    "# Fit the model (Gradient Boosting Model)\n",
    "etc = GradientBoostingClassifier(random_state=219)\n",
    "etc.fit(X_train, y_train)\n",
    "print(etc.feature_importances_)"
   ]
  },
  {
   "cell_type": "code",
   "execution_count": 34,
   "id": "43d58031",
   "metadata": {},
   "outputs": [],
   "source": [
    "# create dataframe to store the scores\n",
    "dfscores = pd.DataFrame(etc.feature_importances_)\n",
    "dfcolumns = pd.DataFrame(data_train.columns[:-1])\n",
    "\n",
    "# concatenate the two dataframes\n",
    "featureScores = pd.concat([dfcolumns,dfscores],axis=1)\n",
    "featureScores.columns = ['Attribute','Score']"
   ]
  },
  {
   "cell_type": "markdown",
   "id": "eb41ac20",
   "metadata": {},
   "source": [
    "then check the top 10 features with the most importance based on this tree classifier"
   ]
  },
  {
   "cell_type": "code",
   "execution_count": 35,
   "id": "93129d8e",
   "metadata": {},
   "outputs": [
    {
     "data": {
      "text/html": [
       "<div>\n",
       "<style scoped>\n",
       "    .dataframe tbody tr th:only-of-type {\n",
       "        vertical-align: middle;\n",
       "    }\n",
       "\n",
       "    .dataframe tbody tr th {\n",
       "        vertical-align: top;\n",
       "    }\n",
       "\n",
       "    .dataframe thead th {\n",
       "        text-align: right;\n",
       "    }\n",
       "</style>\n",
       "<table border=\"1\" class=\"dataframe\">\n",
       "  <thead>\n",
       "    <tr style=\"text-align: right;\">\n",
       "      <th></th>\n",
       "      <th>Attribute</th>\n",
       "      <th>Score</th>\n",
       "    </tr>\n",
       "  </thead>\n",
       "  <tbody>\n",
       "    <tr>\n",
       "      <th>0</th>\n",
       "      <td>dateOfBirth</td>\n",
       "      <td>0.280344</td>\n",
       "    </tr>\n",
       "    <tr>\n",
       "      <th>14</th>\n",
       "      <td>popularity</td>\n",
       "      <td>0.201428</td>\n",
       "    </tr>\n",
       "    <tr>\n",
       "      <th>4</th>\n",
       "      <td>book4_A_Feast_For_Crows</td>\n",
       "      <td>0.115423</td>\n",
       "    </tr>\n",
       "    <tr>\n",
       "      <th>12</th>\n",
       "      <td>age</td>\n",
       "      <td>0.057042</td>\n",
       "    </tr>\n",
       "    <tr>\n",
       "      <th>727</th>\n",
       "      <td>house_Night's Watch</td>\n",
       "      <td>0.036827</td>\n",
       "    </tr>\n",
       "    <tr>\n",
       "      <th>1</th>\n",
       "      <td>book1_A_Game_Of_Thrones</td>\n",
       "      <td>0.025923</td>\n",
       "    </tr>\n",
       "    <tr>\n",
       "      <th>13</th>\n",
       "      <td>numDeadRelations</td>\n",
       "      <td>0.020990</td>\n",
       "    </tr>\n",
       "    <tr>\n",
       "      <th>5</th>\n",
       "      <td>book5_A_Dance_with_Dragons</td>\n",
       "      <td>0.018277</td>\n",
       "    </tr>\n",
       "    <tr>\n",
       "      <th>291</th>\n",
       "      <td>culture_Free Folk</td>\n",
       "      <td>0.017659</td>\n",
       "    </tr>\n",
       "    <tr>\n",
       "      <th>405</th>\n",
       "      <td>house_Brave Companions</td>\n",
       "      <td>0.014913</td>\n",
       "    </tr>\n",
       "  </tbody>\n",
       "</table>\n",
       "</div>"
      ],
      "text/plain": [
       "                      Attribute     Score\n",
       "0                   dateOfBirth  0.280344\n",
       "14                   popularity  0.201428\n",
       "4       book4_A_Feast_For_Crows  0.115423\n",
       "12                          age  0.057042\n",
       "727         house_Night's Watch  0.036827\n",
       "1       book1_A_Game_Of_Thrones  0.025923\n",
       "13             numDeadRelations  0.020990\n",
       "5    book5_A_Dance_with_Dragons  0.018277\n",
       "291           culture_Free Folk  0.017659\n",
       "405      house_Brave Companions  0.014913"
      ]
     },
     "execution_count": 35,
     "metadata": {},
     "output_type": "execute_result"
    }
   ],
   "source": [
    "featureScores = featureScores.sort_values(by=['Score'],ascending=False)\n",
    "featureScores.head(10)"
   ]
  },
  {
   "cell_type": "code",
   "execution_count": 36,
   "id": "de33f8f1",
   "metadata": {},
   "outputs": [
    {
     "data": {
      "text/plain": [
       "['dateOfBirth',\n",
       " 'popularity',\n",
       " 'book4_A_Feast_For_Crows',\n",
       " 'age',\n",
       " \"house_Night's Watch\",\n",
       " 'book1_A_Game_Of_Thrones',\n",
       " 'numDeadRelations',\n",
       " 'book5_A_Dance_with_Dragons',\n",
       " 'culture_Free Folk',\n",
       " 'house_Brave Companions']"
      ]
     },
     "execution_count": 36,
     "metadata": {},
     "output_type": "execute_result"
    }
   ],
   "source": [
    "# convert the top 10 features to a list\n",
    "features_selected = featureScores['Attribute'].head(10).to_list()\n",
    "features_selected"
   ]
  },
  {
   "cell_type": "code",
   "execution_count": 37,
   "id": "f35c15a7",
   "metadata": {},
   "outputs": [],
   "source": [
    "X_train = data_train.loc[:, features_selected].values\n",
    "y_train = data_train.iloc[:,-1].values\n",
    "X_test = data_test.loc[:, features_selected].values\n",
    "y_test = data_test.iloc[:,-1].values"
   ]
  },
  {
   "cell_type": "markdown",
   "id": "285336d1",
   "metadata": {},
   "source": [
    "# Modeling"
   ]
  },
  {
   "cell_type": "markdown",
   "id": "e51ddb75",
   "metadata": {},
   "source": [
    "####  logistic regression"
   ]
  },
  {
   "cell_type": "code",
   "execution_count": 38,
   "id": "ad61dd27",
   "metadata": {},
   "outputs": [
    {
     "data": {
      "text/plain": [
       "LogisticRegression(max_iter=10000, random_state=219, solver='newton-cg')"
      ]
     },
     "execution_count": 38,
     "metadata": {},
     "output_type": "execute_result"
    }
   ],
   "source": [
    "lgm = LogisticRegression(random_state=219, max_iter = 10000, solver = 'newton-cg')\n",
    "lgm.fit(X_train, y_train)"
   ]
  },
  {
   "cell_type": "code",
   "execution_count": 39,
   "id": "c521fae6",
   "metadata": {},
   "outputs": [],
   "source": [
    "# Now generate the confusion matrix\n",
    "cm_lg = confusion_matrix(y_test, lgm.predict(X_test))"
   ]
  },
  {
   "cell_type": "code",
   "execution_count": 40,
   "id": "57e5d1fb",
   "metadata": {},
   "outputs": [
    {
     "name": "stdout",
     "output_type": "stream",
     "text": [
      "{'model type': 'logistic regression', 'train score': 0.7909765848086807, 'test score': 0.8153846153846154, 'AUC': 0.6793103448275862}, \n",
      "Confusion Matrix:\n",
      "[[ 20  30]\n",
      " [  6 139]]\n"
     ]
    }
   ],
   "source": [
    "ans1={}\n",
    "ans1['model type'] = 'logistic regression'\n",
    "ans1['train score'] = lgm.score(X_train,y_train)\n",
    "ans1['test score'] = lgm.score(X_test,y_test)\n",
    "ans1['AUC'] = roc_auc_score(y_test, lgm.predict(X_test))\n",
    "print(f'{ans1}, \\nConfusion Matrix:\\n{cm_lg}')"
   ]
  },
  {
   "cell_type": "markdown",
   "id": "801112a8",
   "metadata": {},
   "source": [
    "#### decision tree"
   ]
  },
  {
   "cell_type": "code",
   "execution_count": 44,
   "id": "2b1626ff",
   "metadata": {},
   "outputs": [],
   "source": [
    "datas = DecisionTreeClassifier(random_state=219)"
   ]
  },
  {
   "cell_type": "code",
   "execution_count": 45,
   "id": "efb41c61",
   "metadata": {},
   "outputs": [
    {
     "name": "stdout",
     "output_type": "stream",
     "text": [
      "Fitting 5 folds for each of 432 candidates, totalling 2160 fits\n"
     ]
    },
    {
     "data": {
      "text/plain": [
       "GridSearchCV(cv=5, estimator=DecisionTreeClassifier(random_state=219),\n",
       "             param_grid={'criterion': ['gini', 'entropy'],\n",
       "                         'max_depth': [3, 4, 5, 6, 7, 8],\n",
       "                         'max_leaf_nodes': [None, 10, 30, 50],\n",
       "                         'min_samples_leaf': [2, 3, 4, 5, 6, 7, 8, 9, 10]},\n",
       "             verbose=1)"
      ]
     },
     "execution_count": 45,
     "metadata": {},
     "output_type": "execute_result"
    }
   ],
   "source": [
    "# provide the grid parameters for decision tree\n",
    "tree_parameters = {'criterion':['gini','entropy'],\n",
    "                   'max_depth':[3,4,5,6,7,8],\n",
    "                   'min_samples_leaf':[2,3,4,5,6,7,8,9,10],\n",
    "                   'max_leaf_nodes':[None,10,30,50]}\n",
    "grid_search_datas = GridSearchCV(datas, tree_parameters, cv=5, verbose=1)\n",
    "grid_search_datas.fit(X_train, y_train)"
   ]
  },
  {
   "cell_type": "code",
   "execution_count": 47,
   "id": "076d4c36",
   "metadata": {},
   "outputs": [],
   "source": [
    "# Now generate the confusion matrix\n",
    "cm_datas_cv = confusion_matrix(y_test, grid_search_datas.predict(X_test))"
   ]
  },
  {
   "cell_type": "code",
   "execution_count": 48,
   "id": "71ca36bc",
   "metadata": {},
   "outputs": [
    {
     "name": "stdout",
     "output_type": "stream",
     "text": [
      "{'model type': 'decision tree', 'train score': 0.8332381496287835, 'test score': 0.8769230769230769, 'AUC': 0.786206896551724}, \n",
      "Confusion Matrix:\n",
      "[[ 30  20]\n",
      " [  4 141]]\n"
     ]
    }
   ],
   "source": [
    "ans2={}\n",
    "ans2['model type'] = 'decision tree'\n",
    "ans2['train score'] = grid_search_datas.score(X_train,y_train)\n",
    "ans2['test score'] = grid_search_datas.score(X_test,y_test)\n",
    "ans2['AUC'] = roc_auc_score(y_test, grid_search_datas.predict(X_test))\n",
    "print(f'{ans2}, \\nConfusion Matrix:\\n{cm_datas_cv}')"
   ]
  },
  {
   "cell_type": "markdown",
   "id": "1d264e08",
   "metadata": {},
   "source": [
    "#### random foreast "
   ]
  },
  {
   "cell_type": "code",
   "execution_count": null,
   "id": "38d93952",
   "metadata": {},
   "outputs": [],
   "source": [
    "rf = RandomForestClassifier(random_state=219)"
   ]
  },
  {
   "cell_type": "code",
   "execution_count": 54,
   "id": "636afb33",
   "metadata": {},
   "outputs": [
    {
     "name": "stdout",
     "output_type": "stream",
     "text": [
      "Fitting 5 folds for each of 120 candidates, totalling 600 fits\n"
     ]
    },
    {
     "data": {
      "text/plain": [
       "GridSearchCV(cv=5, estimator=RandomForestClassifier(random_state=219),\n",
       "             param_grid={'max_depth': [4, 5, 6, 7, 8],\n",
       "                         'max_features': ['auto', 'sqrt'],\n",
       "                         'min_samples_leaf': [1, 2, 4, 6],\n",
       "                         'min_samples_split': [2, 5, 10]},\n",
       "             verbose=1)"
      ]
     },
     "execution_count": 54,
     "metadata": {},
     "output_type": "execute_result"
    }
   ],
   "source": [
    "# provide the grid parameters for random forest\n",
    "forest_parameters = {'max_depth': [4,5,6,7,8],\n",
    "                 'max_features': ['auto', 'sqrt'],\n",
    "                 'min_samples_leaf': [1, 2, 4, 6],\n",
    "                 'min_samples_split': [2, 5, 10]}\n",
    "\n",
    "grid_search_rf = GridSearchCV(rf, forest_parameters, cv=5, verbose=1)\n",
    "grid_search_rf.fit(X_train, y_train)"
   ]
  },
  {
   "cell_type": "code",
   "execution_count": 55,
   "id": "9f00e3ef",
   "metadata": {},
   "outputs": [],
   "source": [
    "# Now generate the confusion matrix\n",
    "cm_rf_cv = confusion_matrix(y_test, grid_search_rf.predict(X_test))"
   ]
  },
  {
   "cell_type": "code",
   "execution_count": 56,
   "id": "2cc18743",
   "metadata": {},
   "outputs": [
    {
     "name": "stdout",
     "output_type": "stream",
     "text": [
      "{'model type': 'decision tree', 'train score': 0.8498001142204454, 'test score': 0.8512820512820513, 'AUC': 0.7493103448275862}, \n",
      "Confusion Matrix:\n",
      "[[ 27  23]\n",
      " [  6 139]]\n"
     ]
    }
   ],
   "source": [
    "ans3={}\n",
    "ans3['model type'] = 'decision tree'\n",
    "ans3['train score'] = grid_search_rf.score(X_train,y_train)\n",
    "ans3['test score'] = grid_search_rf.score(X_test,y_test)\n",
    "ans3['AUC'] = roc_auc_score(y_test, grid_search_rf.predict(X_test))\n",
    "print(f'{ans3}, \\nConfusion Matrix:\\n{cm_rf_cv}')"
   ]
  },
  {
   "cell_type": "markdown",
   "id": "00add405",
   "metadata": {},
   "source": [
    "# Final Model Selected"
   ]
  },
  {
   "cell_type": "markdown",
   "id": "a42d02bd",
   "metadata": {},
   "source": [
    "Considering the overall AUC as the criteria, I would choose the decision tree model since it has the highest AUC score."
   ]
  },
  {
   "cell_type": "code",
   "execution_count": 60,
   "id": "d78e7a4e",
   "metadata": {},
   "outputs": [
    {
     "name": "stdout",
     "output_type": "stream",
     "text": [
      "{'model type': 'decision tree', 'train score': 0.8332381496287835, 'test score': 0.8769230769230769, 'AUC': 0.786206896551724}, \n",
      "Confusion Matrix:\n",
      "[[ 30  20]\n",
      " [  4 141]]\n"
     ]
    }
   ],
   "source": [
    "ans2={}\n",
    "ans2['model type'] = 'decision tree'\n",
    "ans2['train score'] = grid_search_datas.score(X_train,y_train)\n",
    "ans2['test score'] = grid_search_datas.score(X_test,y_test)\n",
    "ans2['AUC'] = roc_auc_score(y_test, grid_search_datas.predict(X_test))\n",
    "print(f'{ans2}, \\nConfusion Matrix:\\n{cm_datas_cv}')"
   ]
  },
  {
   "cell_type": "code",
   "execution_count": null,
   "id": "e8f412ac",
   "metadata": {},
   "outputs": [],
   "source": []
  }
 ],
 "metadata": {
  "kernelspec": {
   "display_name": "Python 3 (ipykernel)",
   "language": "python",
   "name": "python3"
  },
  "language_info": {
   "codemirror_mode": {
    "name": "ipython",
    "version": 3
   },
   "file_extension": ".py",
   "mimetype": "text/x-python",
   "name": "python",
   "nbconvert_exporter": "python",
   "pygments_lexer": "ipython3",
   "version": "3.9.7"
  },
  "toc": {
   "base_numbering": 1,
   "nav_menu": {},
   "number_sections": true,
   "sideBar": true,
   "skip_h1_title": false,
   "title_cell": "Table of Contents",
   "title_sidebar": "Contents",
   "toc_cell": false,
   "toc_position": {},
   "toc_section_display": true,
   "toc_window_display": false
  },
  "varInspector": {
   "cols": {
    "lenName": 16,
    "lenType": 16,
    "lenVar": 40
   },
   "kernels_config": {
    "python": {
     "delete_cmd_postfix": "",
     "delete_cmd_prefix": "del ",
     "library": "var_list.py",
     "varRefreshCmd": "print(var_dic_list())"
    },
    "r": {
     "delete_cmd_postfix": ") ",
     "delete_cmd_prefix": "rm(",
     "library": "var_list.r",
     "varRefreshCmd": "cat(var_dic_list()) "
    }
   },
   "types_to_exclude": [
    "module",
    "function",
    "builtin_function_or_method",
    "instance",
    "_Feature"
   ],
   "window_display": false
  }
 },
 "nbformat": 4,
 "nbformat_minor": 5
}
